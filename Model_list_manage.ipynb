{
 "cells": [
  {
   "cell_type": "code",
   "execution_count": 1,
   "id": "4cb259eb-e518-4aca-bc0e-ad2835718a73",
   "metadata": {},
   "outputs": [],
   "source": [
    "import json\n",
    "import os\n",
    "import sys\n",
    "\n",
    "# 配置文件路径（根据实际情况修改）\n",
    "PROJECT_BASE = \"/mnt/disk1/users/jiangning/maogaoyu/data/model-eval\" # 根目录\n",
    "PROJECT_NAME = r\"Model_list\"\n",
    "output_path = f\"{PROJECT_BASE}/{PROJECT_NAME}/model_list.json\"\n",
    "\n",
    "def load_model_list():\n",
    "    \"\"\"加载现有的模型列表\"\"\"\n",
    "    try:\n",
    "        with open(output_path, 'r', encoding='utf-8') as f:\n",
    "            return json.load(f)\n",
    "    except FileNotFoundError:\n",
    "        return {\"LLM\": []}\n",
    "    except json.JSONDecodeError:\n",
    "        print(\"Error: 现有 model_list.json 不是有效的JSON格式，请检查或删除该文件\")\n",
    "        sys.exit(1)\n",
    "\n",
    "def save_model_list(model_data):\n",
    "    \"\"\"保存模型列表到文件\"\"\"\n",
    "    with open(output_path, 'w', encoding='utf-8') as f:\n",
    "        json.dump(model_data, f, indent=4, ensure_ascii=False)\n",
    "    print(f\"模型列表已更新: {output_path}\")\n",
    "\n",
    "def add_model(model_info):\n",
    "    \"\"\"添加新模型到列表\"\"\"\n",
    "    model_data = load_model_list()\n",
    "    \n",
    "    # 检查模型是否已存在\n",
    "    if any(model[\"name\"] == model_info[\"name\"] for model in model_data[\"LLM\"]):\n",
    "        print(f\"错误: 模型 '{model_info['name']}' 已存在\")\n",
    "        sys.exit(1)\n",
    "    \n",
    "    model_data[\"LLM\"].append(model_info)\n",
    "    save_model_list(model_data)\n",
    "\n",
    "def delete_model(model_name):\n",
    "    \"\"\"从列表中删除指定模型\"\"\"\n",
    "    model_data = load_model_list()\n",
    "    \n",
    "    original_count = len(model_data[\"LLM\"])\n",
    "    model_data[\"LLM\"] = [m for m in model_data[\"LLM\"] if m[\"name\"] != model_name]\n",
    "    \n",
    "    if len(model_data[\"LLM\"]) == original_count:\n",
    "        print(f\"错误: 未找到模型 '{model_name}'\")\n",
    "        sys.exit(1)\n",
    "    \n",
    "    save_model_list(model_data)\n",
    "    print(f\"已删除模型: {model_name}\")"
   ]
  },
  {
   "cell_type": "code",
   "execution_count": 28,
   "id": "0adb1239-9410-48d3-826b-804846ee7c40",
   "metadata": {},
   "outputs": [],
   "source": [
    "import re\n",
    "# ==============================\n",
    "# 添加新模型（默认使用这部分代码）\n",
    "# 每次使用时手动修改以下变量 鹏飞\n",
    "# ==============================\n",
    "MODEL_NAME = \"Qwen25-7B-Instruct\"    # 修改为新模型名称\n",
    "MODEL_VERSION = \"v1.0\"\n",
    "DDK_VERSION = \"v1.0\"\n",
    "DOWNLOAD_URL = \"https://modelers.cn/coderepo/web/v1/file/HarmonyAI/Test/main/media/Qwen25-7B-OMC.zip\"\n",
    "MODIFIED_AT = \"2025-06-10T19:56:36.437057000+00:00\"\n",
    "OWNED_BY = \"Huawei\"\n",
    "SIZE_BYTES = 3658939664\n",
    "DIGEST = \"f07ca92cc4d983a7fab0203496c6edf8d3afd343a931f8ed954a1f1c306051a0\"\n",
    "FORMAT = \"omc\"\n",
    "FAMILY = \"qwen2\"\n",
    "FAMILYS = \"qwen\"  # 或 \"None\" 如果您需要字符串形式\n",
    "PARAMETER_SIZE = \"7B\"\n",
    "QUANTIZATION = \"Q4_0\"\n",
    "###################################################################################################\n",
    "\n",
    "if not re.fullmatch(r\"[A-Za-z0-9_\\-]+\", MODEL_NAME):\n",
    "    raise ValueError(f\"非法的 MODEL_NAME: {MODEL_NAME}，只能包含字母、数字、- 和 _\")\n",
    "    \n",
    "new_model = {\n",
    "    \"name\": MODEL_NAME,\n",
    "    \"model_version\": MODEL_VERSION,\n",
    "    \"ddk_version\": DDK_VERSION,\n",
    "    \"download\": DOWNLOAD_URL,\n",
    "    \"modified_at\": MODIFIED_AT,\n",
    "    \"owned_by\": OWNED_BY,\n",
    "    \"size\": SIZE_BYTES,\n",
    "    \"digest\": DIGEST,\n",
    "    \"details\": {\n",
    "        \"format\": FORMAT,\n",
    "        \"family\": FAMILY,\n",
    "        \"families\": FAMILYS,\n",
    "        \"parameter_size\": PARAMETER_SIZE,\n",
    "        \"quantization_level\": QUANTIZATION\n",
    "    }\n",
    "}"
   ]
  },
  {
   "cell_type": "code",
   "execution_count": 23,
   "id": "5759d23d-df24-47e8-81b2-172b8b0d50ef",
   "metadata": {},
   "outputs": [
    {
     "name": "stdout",
     "output_type": "stream",
     "text": [
      "模型列表已更新: /mnt/disk1/users/jiangning/maogaoyu/data/model-eval/Model_list/model_list.json\n"
     ]
    }
   ],
   "source": [
    "add_model(new_model)  # 默认执行添加操作\n",
    "\n",
    "# ==============================\n",
    "# 删除模型（需要时取消注释）\n",
    "# ==============================\n",
    "#delete_model(\"Qwen25-Instruct-7B\")  # 需要时指定要删除的模型名"
   ]
  },
  {
   "cell_type": "code",
   "execution_count": 7,
   "id": "87fa8e70-c32f-4180-a5d4-edc461d29b04",
   "metadata": {},
   "outputs": [
    {
     "name": "stdout",
     "output_type": "stream",
     "text": [
      "2025-06-10T19:56:36.437057000+00:00\n"
     ]
    }
   ],
   "source": [
    "from datetime import datetime\n",
    "import pytz\n",
    "\n",
    "# 获取当前 UTC 时间（微秒精度）\n",
    "now = datetime.now(pytz.UTC)\n",
    "# 手动拼接成纳秒（补3个0）\n",
    "MODIFIED_AT = now.isoformat().replace('+00:00', '.000+00:00') if now.microsecond == 0 \\\n",
    "    else now.isoformat().replace('+00:00', '000+00:00')\n",
    "print(MODIFIED_AT)"
   ]
  }
 ],
 "metadata": {
  "kernelspec": {
   "display_name": "Python 3 (ipykernel)",
   "language": "python",
   "name": "python3"
  },
  "language_info": {
   "codemirror_mode": {
    "name": "ipython",
    "version": 3
   },
   "file_extension": ".py",
   "mimetype": "text/x-python",
   "name": "python",
   "nbconvert_exporter": "python",
   "pygments_lexer": "ipython3",
   "version": "3.12.7"
  }
 },
 "nbformat": 4,
 "nbformat_minor": 5
}
